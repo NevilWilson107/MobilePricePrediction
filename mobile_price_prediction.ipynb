{
  "cells": [
    {
      "cell_type": "code",
      "execution_count": 35,
      "metadata": {
        "id": "28zy87D6qRXQ"
      },
      "outputs": [],
      "source": [
        "import numpy as np\n",
        "import pandas as pd\n",
        "import matplotlib.pyplot as plt\n",
        "import seaborn as sns\n"
      ]
    },
    {
      "cell_type": "code",
      "execution_count": 36,
      "metadata": {
        "colab": {
          "base_uri": "https://localhost:8080/",
          "height": 423
        },
        "id": "PBJTJhZbqk76",
        "outputId": "c3a00f79-ea09-4b09-c620-b9ad46477008"
      },
      "outputs": [
        {
          "data": {
            "text/html": [
              "<div>\n",
              "<style scoped>\n",
              "    .dataframe tbody tr th:only-of-type {\n",
              "        vertical-align: middle;\n",
              "    }\n",
              "\n",
              "    .dataframe tbody tr th {\n",
              "        vertical-align: top;\n",
              "    }\n",
              "\n",
              "    .dataframe thead th {\n",
              "        text-align: right;\n",
              "    }\n",
              "</style>\n",
              "<table border=\"1\" class=\"dataframe\">\n",
              "  <thead>\n",
              "    <tr style=\"text-align: right;\">\n",
              "      <th></th>\n",
              "      <th>Product_id</th>\n",
              "      <th>Price</th>\n",
              "      <th>Sale</th>\n",
              "      <th>weight</th>\n",
              "      <th>resoloution</th>\n",
              "      <th>ppi</th>\n",
              "      <th>cpu core</th>\n",
              "      <th>cpu freq</th>\n",
              "      <th>internal mem</th>\n",
              "      <th>ram</th>\n",
              "      <th>RearCam</th>\n",
              "      <th>Front_Cam</th>\n",
              "      <th>battery</th>\n",
              "      <th>thickness</th>\n",
              "    </tr>\n",
              "  </thead>\n",
              "  <tbody>\n",
              "    <tr>\n",
              "      <th>0</th>\n",
              "      <td>203</td>\n",
              "      <td>2357</td>\n",
              "      <td>10</td>\n",
              "      <td>135.0</td>\n",
              "      <td>5.20</td>\n",
              "      <td>424</td>\n",
              "      <td>8</td>\n",
              "      <td>1.350</td>\n",
              "      <td>16.0</td>\n",
              "      <td>3.000</td>\n",
              "      <td>13.00</td>\n",
              "      <td>8.0</td>\n",
              "      <td>2610</td>\n",
              "      <td>7.4</td>\n",
              "    </tr>\n",
              "    <tr>\n",
              "      <th>1</th>\n",
              "      <td>880</td>\n",
              "      <td>1749</td>\n",
              "      <td>10</td>\n",
              "      <td>125.0</td>\n",
              "      <td>4.00</td>\n",
              "      <td>233</td>\n",
              "      <td>2</td>\n",
              "      <td>1.300</td>\n",
              "      <td>4.0</td>\n",
              "      <td>1.000</td>\n",
              "      <td>3.15</td>\n",
              "      <td>0.0</td>\n",
              "      <td>1700</td>\n",
              "      <td>9.9</td>\n",
              "    </tr>\n",
              "    <tr>\n",
              "      <th>2</th>\n",
              "      <td>40</td>\n",
              "      <td>1916</td>\n",
              "      <td>10</td>\n",
              "      <td>110.0</td>\n",
              "      <td>4.70</td>\n",
              "      <td>312</td>\n",
              "      <td>4</td>\n",
              "      <td>1.200</td>\n",
              "      <td>8.0</td>\n",
              "      <td>1.500</td>\n",
              "      <td>13.00</td>\n",
              "      <td>5.0</td>\n",
              "      <td>2000</td>\n",
              "      <td>7.6</td>\n",
              "    </tr>\n",
              "    <tr>\n",
              "      <th>3</th>\n",
              "      <td>99</td>\n",
              "      <td>1315</td>\n",
              "      <td>11</td>\n",
              "      <td>118.5</td>\n",
              "      <td>4.00</td>\n",
              "      <td>233</td>\n",
              "      <td>2</td>\n",
              "      <td>1.300</td>\n",
              "      <td>4.0</td>\n",
              "      <td>0.512</td>\n",
              "      <td>3.15</td>\n",
              "      <td>0.0</td>\n",
              "      <td>1400</td>\n",
              "      <td>11.0</td>\n",
              "    </tr>\n",
              "    <tr>\n",
              "      <th>4</th>\n",
              "      <td>880</td>\n",
              "      <td>1749</td>\n",
              "      <td>11</td>\n",
              "      <td>125.0</td>\n",
              "      <td>4.00</td>\n",
              "      <td>233</td>\n",
              "      <td>2</td>\n",
              "      <td>1.300</td>\n",
              "      <td>4.0</td>\n",
              "      <td>1.000</td>\n",
              "      <td>3.15</td>\n",
              "      <td>0.0</td>\n",
              "      <td>1700</td>\n",
              "      <td>9.9</td>\n",
              "    </tr>\n",
              "    <tr>\n",
              "      <th>...</th>\n",
              "      <td>...</td>\n",
              "      <td>...</td>\n",
              "      <td>...</td>\n",
              "      <td>...</td>\n",
              "      <td>...</td>\n",
              "      <td>...</td>\n",
              "      <td>...</td>\n",
              "      <td>...</td>\n",
              "      <td>...</td>\n",
              "      <td>...</td>\n",
              "      <td>...</td>\n",
              "      <td>...</td>\n",
              "      <td>...</td>\n",
              "      <td>...</td>\n",
              "    </tr>\n",
              "    <tr>\n",
              "      <th>156</th>\n",
              "      <td>1206</td>\n",
              "      <td>3551</td>\n",
              "      <td>4638</td>\n",
              "      <td>178.0</td>\n",
              "      <td>5.46</td>\n",
              "      <td>538</td>\n",
              "      <td>4</td>\n",
              "      <td>1.875</td>\n",
              "      <td>128.0</td>\n",
              "      <td>6.000</td>\n",
              "      <td>12.00</td>\n",
              "      <td>16.0</td>\n",
              "      <td>4080</td>\n",
              "      <td>8.4</td>\n",
              "    </tr>\n",
              "    <tr>\n",
              "      <th>157</th>\n",
              "      <td>1296</td>\n",
              "      <td>3211</td>\n",
              "      <td>8016</td>\n",
              "      <td>170.0</td>\n",
              "      <td>5.50</td>\n",
              "      <td>534</td>\n",
              "      <td>4</td>\n",
              "      <td>1.975</td>\n",
              "      <td>128.0</td>\n",
              "      <td>6.000</td>\n",
              "      <td>20.00</td>\n",
              "      <td>8.0</td>\n",
              "      <td>3400</td>\n",
              "      <td>7.9</td>\n",
              "    </tr>\n",
              "    <tr>\n",
              "      <th>158</th>\n",
              "      <td>856</td>\n",
              "      <td>3260</td>\n",
              "      <td>8809</td>\n",
              "      <td>150.0</td>\n",
              "      <td>5.50</td>\n",
              "      <td>401</td>\n",
              "      <td>8</td>\n",
              "      <td>2.200</td>\n",
              "      <td>64.0</td>\n",
              "      <td>4.000</td>\n",
              "      <td>20.00</td>\n",
              "      <td>20.0</td>\n",
              "      <td>3000</td>\n",
              "      <td>6.8</td>\n",
              "    </tr>\n",
              "    <tr>\n",
              "      <th>159</th>\n",
              "      <td>1296</td>\n",
              "      <td>3211</td>\n",
              "      <td>8946</td>\n",
              "      <td>170.0</td>\n",
              "      <td>5.50</td>\n",
              "      <td>534</td>\n",
              "      <td>4</td>\n",
              "      <td>1.975</td>\n",
              "      <td>128.0</td>\n",
              "      <td>6.000</td>\n",
              "      <td>20.00</td>\n",
              "      <td>8.0</td>\n",
              "      <td>3400</td>\n",
              "      <td>7.9</td>\n",
              "    </tr>\n",
              "    <tr>\n",
              "      <th>160</th>\n",
              "      <td>1131</td>\n",
              "      <td>2536</td>\n",
              "      <td>9807</td>\n",
              "      <td>202.0</td>\n",
              "      <td>6.00</td>\n",
              "      <td>367</td>\n",
              "      <td>8</td>\n",
              "      <td>1.500</td>\n",
              "      <td>16.0</td>\n",
              "      <td>3.000</td>\n",
              "      <td>21.50</td>\n",
              "      <td>16.0</td>\n",
              "      <td>2700</td>\n",
              "      <td>8.4</td>\n",
              "    </tr>\n",
              "  </tbody>\n",
              "</table>\n",
              "<p>161 rows × 14 columns</p>\n",
              "</div>"
            ],
            "text/plain": [
              "     Product_id  Price  Sale  weight  resoloution  ppi  cpu core  cpu freq  \\\n",
              "0           203   2357    10   135.0         5.20  424         8     1.350   \n",
              "1           880   1749    10   125.0         4.00  233         2     1.300   \n",
              "2            40   1916    10   110.0         4.70  312         4     1.200   \n",
              "3            99   1315    11   118.5         4.00  233         2     1.300   \n",
              "4           880   1749    11   125.0         4.00  233         2     1.300   \n",
              "..          ...    ...   ...     ...          ...  ...       ...       ...   \n",
              "156        1206   3551  4638   178.0         5.46  538         4     1.875   \n",
              "157        1296   3211  8016   170.0         5.50  534         4     1.975   \n",
              "158         856   3260  8809   150.0         5.50  401         8     2.200   \n",
              "159        1296   3211  8946   170.0         5.50  534         4     1.975   \n",
              "160        1131   2536  9807   202.0         6.00  367         8     1.500   \n",
              "\n",
              "     internal mem    ram  RearCam  Front_Cam  battery  thickness  \n",
              "0            16.0  3.000    13.00        8.0     2610        7.4  \n",
              "1             4.0  1.000     3.15        0.0     1700        9.9  \n",
              "2             8.0  1.500    13.00        5.0     2000        7.6  \n",
              "3             4.0  0.512     3.15        0.0     1400       11.0  \n",
              "4             4.0  1.000     3.15        0.0     1700        9.9  \n",
              "..            ...    ...      ...        ...      ...        ...  \n",
              "156         128.0  6.000    12.00       16.0     4080        8.4  \n",
              "157         128.0  6.000    20.00        8.0     3400        7.9  \n",
              "158          64.0  4.000    20.00       20.0     3000        6.8  \n",
              "159         128.0  6.000    20.00        8.0     3400        7.9  \n",
              "160          16.0  3.000    21.50       16.0     2700        8.4  \n",
              "\n",
              "[161 rows x 14 columns]"
            ]
          },
          "execution_count": 36,
          "metadata": {},
          "output_type": "execute_result"
        }
      ],
      "source": [
        "df = pd.read_csv('mobile_price_prediction.csv')\n",
        "df"
      ]
    },
    {
      "cell_type": "code",
      "execution_count": 37,
      "metadata": {
        "colab": {
          "base_uri": "https://localhost:8080/",
          "height": 206
        },
        "id": "4bSwPaqSriLJ",
        "outputId": "0afd62f2-87e7-4c1c-c8d5-0274db10515f"
      },
      "outputs": [
        {
          "data": {
            "text/html": [
              "<div>\n",
              "<style scoped>\n",
              "    .dataframe tbody tr th:only-of-type {\n",
              "        vertical-align: middle;\n",
              "    }\n",
              "\n",
              "    .dataframe tbody tr th {\n",
              "        vertical-align: top;\n",
              "    }\n",
              "\n",
              "    .dataframe thead th {\n",
              "        text-align: right;\n",
              "    }\n",
              "</style>\n",
              "<table border=\"1\" class=\"dataframe\">\n",
              "  <thead>\n",
              "    <tr style=\"text-align: right;\">\n",
              "      <th></th>\n",
              "      <th>Product_id</th>\n",
              "      <th>Price</th>\n",
              "      <th>Sale</th>\n",
              "      <th>weight</th>\n",
              "      <th>resoloution</th>\n",
              "      <th>ppi</th>\n",
              "      <th>cpu core</th>\n",
              "      <th>cpu freq</th>\n",
              "      <th>internal mem</th>\n",
              "      <th>ram</th>\n",
              "      <th>RearCam</th>\n",
              "      <th>Front_Cam</th>\n",
              "      <th>battery</th>\n",
              "      <th>thickness</th>\n",
              "    </tr>\n",
              "  </thead>\n",
              "  <tbody>\n",
              "    <tr>\n",
              "      <th>0</th>\n",
              "      <td>203</td>\n",
              "      <td>2357</td>\n",
              "      <td>10</td>\n",
              "      <td>135.0</td>\n",
              "      <td>5.2</td>\n",
              "      <td>424</td>\n",
              "      <td>8</td>\n",
              "      <td>1.35</td>\n",
              "      <td>16.0</td>\n",
              "      <td>3.000</td>\n",
              "      <td>13.00</td>\n",
              "      <td>8.0</td>\n",
              "      <td>2610</td>\n",
              "      <td>7.4</td>\n",
              "    </tr>\n",
              "    <tr>\n",
              "      <th>1</th>\n",
              "      <td>880</td>\n",
              "      <td>1749</td>\n",
              "      <td>10</td>\n",
              "      <td>125.0</td>\n",
              "      <td>4.0</td>\n",
              "      <td>233</td>\n",
              "      <td>2</td>\n",
              "      <td>1.30</td>\n",
              "      <td>4.0</td>\n",
              "      <td>1.000</td>\n",
              "      <td>3.15</td>\n",
              "      <td>0.0</td>\n",
              "      <td>1700</td>\n",
              "      <td>9.9</td>\n",
              "    </tr>\n",
              "    <tr>\n",
              "      <th>2</th>\n",
              "      <td>40</td>\n",
              "      <td>1916</td>\n",
              "      <td>10</td>\n",
              "      <td>110.0</td>\n",
              "      <td>4.7</td>\n",
              "      <td>312</td>\n",
              "      <td>4</td>\n",
              "      <td>1.20</td>\n",
              "      <td>8.0</td>\n",
              "      <td>1.500</td>\n",
              "      <td>13.00</td>\n",
              "      <td>5.0</td>\n",
              "      <td>2000</td>\n",
              "      <td>7.6</td>\n",
              "    </tr>\n",
              "    <tr>\n",
              "      <th>3</th>\n",
              "      <td>99</td>\n",
              "      <td>1315</td>\n",
              "      <td>11</td>\n",
              "      <td>118.5</td>\n",
              "      <td>4.0</td>\n",
              "      <td>233</td>\n",
              "      <td>2</td>\n",
              "      <td>1.30</td>\n",
              "      <td>4.0</td>\n",
              "      <td>0.512</td>\n",
              "      <td>3.15</td>\n",
              "      <td>0.0</td>\n",
              "      <td>1400</td>\n",
              "      <td>11.0</td>\n",
              "    </tr>\n",
              "    <tr>\n",
              "      <th>4</th>\n",
              "      <td>880</td>\n",
              "      <td>1749</td>\n",
              "      <td>11</td>\n",
              "      <td>125.0</td>\n",
              "      <td>4.0</td>\n",
              "      <td>233</td>\n",
              "      <td>2</td>\n",
              "      <td>1.30</td>\n",
              "      <td>4.0</td>\n",
              "      <td>1.000</td>\n",
              "      <td>3.15</td>\n",
              "      <td>0.0</td>\n",
              "      <td>1700</td>\n",
              "      <td>9.9</td>\n",
              "    </tr>\n",
              "  </tbody>\n",
              "</table>\n",
              "</div>"
            ],
            "text/plain": [
              "   Product_id  Price  Sale  weight  resoloution  ppi  cpu core  cpu freq  \\\n",
              "0         203   2357    10   135.0          5.2  424         8      1.35   \n",
              "1         880   1749    10   125.0          4.0  233         2      1.30   \n",
              "2          40   1916    10   110.0          4.7  312         4      1.20   \n",
              "3          99   1315    11   118.5          4.0  233         2      1.30   \n",
              "4         880   1749    11   125.0          4.0  233         2      1.30   \n",
              "\n",
              "   internal mem    ram  RearCam  Front_Cam  battery  thickness  \n",
              "0          16.0  3.000    13.00        8.0     2610        7.4  \n",
              "1           4.0  1.000     3.15        0.0     1700        9.9  \n",
              "2           8.0  1.500    13.00        5.0     2000        7.6  \n",
              "3           4.0  0.512     3.15        0.0     1400       11.0  \n",
              "4           4.0  1.000     3.15        0.0     1700        9.9  "
            ]
          },
          "execution_count": 37,
          "metadata": {},
          "output_type": "execute_result"
        }
      ],
      "source": [
        "df.head()"
      ]
    },
    {
      "cell_type": "code",
      "execution_count": 38,
      "metadata": {
        "colab": {
          "base_uri": "https://localhost:8080/",
          "height": 206
        },
        "id": "16QIjrOTrkyw",
        "outputId": "7687fc19-5763-4d86-f4f4-7f31789d81a3"
      },
      "outputs": [
        {
          "data": {
            "text/html": [
              "<div>\n",
              "<style scoped>\n",
              "    .dataframe tbody tr th:only-of-type {\n",
              "        vertical-align: middle;\n",
              "    }\n",
              "\n",
              "    .dataframe tbody tr th {\n",
              "        vertical-align: top;\n",
              "    }\n",
              "\n",
              "    .dataframe thead th {\n",
              "        text-align: right;\n",
              "    }\n",
              "</style>\n",
              "<table border=\"1\" class=\"dataframe\">\n",
              "  <thead>\n",
              "    <tr style=\"text-align: right;\">\n",
              "      <th></th>\n",
              "      <th>Product_id</th>\n",
              "      <th>Price</th>\n",
              "      <th>Sale</th>\n",
              "      <th>weight</th>\n",
              "      <th>resoloution</th>\n",
              "      <th>ppi</th>\n",
              "      <th>cpu core</th>\n",
              "      <th>cpu freq</th>\n",
              "      <th>internal mem</th>\n",
              "      <th>ram</th>\n",
              "      <th>RearCam</th>\n",
              "      <th>Front_Cam</th>\n",
              "      <th>battery</th>\n",
              "      <th>thickness</th>\n",
              "    </tr>\n",
              "  </thead>\n",
              "  <tbody>\n",
              "    <tr>\n",
              "      <th>156</th>\n",
              "      <td>1206</td>\n",
              "      <td>3551</td>\n",
              "      <td>4638</td>\n",
              "      <td>178.0</td>\n",
              "      <td>5.46</td>\n",
              "      <td>538</td>\n",
              "      <td>4</td>\n",
              "      <td>1.875</td>\n",
              "      <td>128.0</td>\n",
              "      <td>6.0</td>\n",
              "      <td>12.0</td>\n",
              "      <td>16.0</td>\n",
              "      <td>4080</td>\n",
              "      <td>8.4</td>\n",
              "    </tr>\n",
              "    <tr>\n",
              "      <th>157</th>\n",
              "      <td>1296</td>\n",
              "      <td>3211</td>\n",
              "      <td>8016</td>\n",
              "      <td>170.0</td>\n",
              "      <td>5.50</td>\n",
              "      <td>534</td>\n",
              "      <td>4</td>\n",
              "      <td>1.975</td>\n",
              "      <td>128.0</td>\n",
              "      <td>6.0</td>\n",
              "      <td>20.0</td>\n",
              "      <td>8.0</td>\n",
              "      <td>3400</td>\n",
              "      <td>7.9</td>\n",
              "    </tr>\n",
              "    <tr>\n",
              "      <th>158</th>\n",
              "      <td>856</td>\n",
              "      <td>3260</td>\n",
              "      <td>8809</td>\n",
              "      <td>150.0</td>\n",
              "      <td>5.50</td>\n",
              "      <td>401</td>\n",
              "      <td>8</td>\n",
              "      <td>2.200</td>\n",
              "      <td>64.0</td>\n",
              "      <td>4.0</td>\n",
              "      <td>20.0</td>\n",
              "      <td>20.0</td>\n",
              "      <td>3000</td>\n",
              "      <td>6.8</td>\n",
              "    </tr>\n",
              "    <tr>\n",
              "      <th>159</th>\n",
              "      <td>1296</td>\n",
              "      <td>3211</td>\n",
              "      <td>8946</td>\n",
              "      <td>170.0</td>\n",
              "      <td>5.50</td>\n",
              "      <td>534</td>\n",
              "      <td>4</td>\n",
              "      <td>1.975</td>\n",
              "      <td>128.0</td>\n",
              "      <td>6.0</td>\n",
              "      <td>20.0</td>\n",
              "      <td>8.0</td>\n",
              "      <td>3400</td>\n",
              "      <td>7.9</td>\n",
              "    </tr>\n",
              "    <tr>\n",
              "      <th>160</th>\n",
              "      <td>1131</td>\n",
              "      <td>2536</td>\n",
              "      <td>9807</td>\n",
              "      <td>202.0</td>\n",
              "      <td>6.00</td>\n",
              "      <td>367</td>\n",
              "      <td>8</td>\n",
              "      <td>1.500</td>\n",
              "      <td>16.0</td>\n",
              "      <td>3.0</td>\n",
              "      <td>21.5</td>\n",
              "      <td>16.0</td>\n",
              "      <td>2700</td>\n",
              "      <td>8.4</td>\n",
              "    </tr>\n",
              "  </tbody>\n",
              "</table>\n",
              "</div>"
            ],
            "text/plain": [
              "     Product_id  Price  Sale  weight  resoloution  ppi  cpu core  cpu freq  \\\n",
              "156        1206   3551  4638   178.0         5.46  538         4     1.875   \n",
              "157        1296   3211  8016   170.0         5.50  534         4     1.975   \n",
              "158         856   3260  8809   150.0         5.50  401         8     2.200   \n",
              "159        1296   3211  8946   170.0         5.50  534         4     1.975   \n",
              "160        1131   2536  9807   202.0         6.00  367         8     1.500   \n",
              "\n",
              "     internal mem  ram  RearCam  Front_Cam  battery  thickness  \n",
              "156         128.0  6.0     12.0       16.0     4080        8.4  \n",
              "157         128.0  6.0     20.0        8.0     3400        7.9  \n",
              "158          64.0  4.0     20.0       20.0     3000        6.8  \n",
              "159         128.0  6.0     20.0        8.0     3400        7.9  \n",
              "160          16.0  3.0     21.5       16.0     2700        8.4  "
            ]
          },
          "execution_count": 38,
          "metadata": {},
          "output_type": "execute_result"
        }
      ],
      "source": [
        "df.tail()"
      ]
    },
    {
      "cell_type": "code",
      "execution_count": 39,
      "metadata": {
        "colab": {
          "base_uri": "https://localhost:8080/",
          "height": 523
        },
        "id": "1PRqkcSornsY",
        "outputId": "20d921fc-def9-4016-d5f2-db30f8f0a121"
      },
      "outputs": [
        {
          "data": {
            "text/plain": [
              "Product_id      0\n",
              "Price           0\n",
              "Sale            0\n",
              "weight          0\n",
              "resoloution     0\n",
              "ppi             0\n",
              "cpu core        0\n",
              "cpu freq        0\n",
              "internal mem    0\n",
              "ram             0\n",
              "RearCam         0\n",
              "Front_Cam       0\n",
              "battery         0\n",
              "thickness       0\n",
              "dtype: int64"
            ]
          },
          "execution_count": 39,
          "metadata": {},
          "output_type": "execute_result"
        }
      ],
      "source": [
        "df.isna().sum()"
      ]
    },
    {
      "cell_type": "code",
      "execution_count": 40,
      "metadata": {
        "colab": {
          "base_uri": "https://localhost:8080/",
          "height": 523
        },
        "id": "S8rgGEHtrxXH",
        "outputId": "6895ad8f-68bb-4155-c1a1-3f02cd2d2cc7"
      },
      "outputs": [
        {
          "data": {
            "text/plain": [
              "Product_id        int64\n",
              "Price             int64\n",
              "Sale              int64\n",
              "weight          float64\n",
              "resoloution     float64\n",
              "ppi               int64\n",
              "cpu core          int64\n",
              "cpu freq        float64\n",
              "internal mem    float64\n",
              "ram             float64\n",
              "RearCam         float64\n",
              "Front_Cam       float64\n",
              "battery           int64\n",
              "thickness       float64\n",
              "dtype: object"
            ]
          },
          "execution_count": 40,
          "metadata": {},
          "output_type": "execute_result"
        }
      ],
      "source": [
        "df.dtypes"
      ]
    },
    {
      "cell_type": "code",
      "execution_count": 41,
      "metadata": {
        "colab": {
          "base_uri": "https://localhost:8080/",
          "height": 428
        },
        "id": "sdp9AcLar3wn",
        "outputId": "0b93c8fc-75f5-49dd-a78c-bec2e6b7314f"
      },
      "outputs": [
        {
          "data": {
            "text/plain": [
              "<Axes: ylabel='thickness'>"
            ]
          },
          "execution_count": 41,
          "metadata": {},
          "output_type": "execute_result"
        },
        {
          "data": {
            "image/png": "[encoded data removed]",
            "text/plain": [
              "<Figure size 640x480 with 1 Axes>"
            ]
          },
          "metadata": {},
          "output_type": "display_data"
        }
      ],
      "source": [
        "sns.boxplot(df['thickness'])"
      ]
    },
    {
      "cell_type": "code",
      "execution_count": 42,
      "metadata": {
        "colab": {
          "base_uri": "https://localhost:8080/",
          "height": 532
        },
        "id": "26T0C_Zys3ac",
        "outputId": "25e7e878-4b24-4112-a65b-3ab1bf319ae7"
      },
      "outputs": [
        {
          "data": {
            "text/plain": [
              "<Axes: >"
            ]
          },
          "execution_count": 42,
          "metadata": {},
          "output_type": "execute_result"
        },
        {
          "data": {
            "image/png": "[encoded data removed]",
            "text/plain": [
              "<Figure size 640x480 with 2 Axes>"
            ]
          },
          "metadata": {},
          "output_type": "display_data"
        }
      ],
      "source": [
        "sns.heatmap(df.corr(numeric_only = True))"
      ]
    },
    {
      "cell_type": "code",
      "execution_count": 43,
      "metadata": {
        "colab": {
          "base_uri": "https://localhost:8080/",
          "height": 466
        },
        "id": "UWeZn1RPtDPZ",
        "outputId": "a5fec8d5-2acb-4ecf-c35e-d2e52d9d5254"
      },
      "outputs": [
        {
          "data": {
            "text/plain": [
              "<Axes: xlabel='thickness', ylabel='Count'>"
            ]
          },
          "execution_count": 43,
          "metadata": {},
          "output_type": "execute_result"
        },
        {
          "data": {
            "image/png": "[encoded data removed]",
            "text/plain": [
              "<Figure size 640x480 with 1 Axes>"
            ]
          },
          "metadata": {},
          "output_type": "display_data"
        }
      ],
      "source": [
        "sns.histplot(df['thickness'],kde =True,bins = 15, color = 'red')"
      ]
    },
    {
      "cell_type": "markdown",
      "metadata": {
        "id": "QOP8S28Buszi"
      },
      "source": [
        "Here kde represents kernel density estimate which is shown through a curve here."
      ]
    },
    {
      "cell_type": "code",
      "execution_count": 44,
      "metadata": {
        "colab": {
          "base_uri": "https://localhost:8080/"
        },
        "id": "tbKFdNqsugQW",
        "outputId": "9d770109-e95c-4175-ca5d-f6cac39e5638"
      },
      "outputs": [
        {
          "name": "stdout",
          "output_type": "stream",
          "text": [
            "2.200000000000001\n",
            "Upper Bound is : 13.100000000000001\n",
            "[False False False False False False False False False False False False\n",
            " False False False False False False False False False False False False\n",
            " False False False False False False False False False False False False\n",
            " False False False False False False False False False False False False\n",
            " False False False False False False False False False False False False\n",
            " False False False False False False False False False False False False\n",
            " False False False False False False False False False  True False False\n",
            " False False  True False False False False False False False False False\n",
            " False False False False False False False False False False False False\n",
            " False False False False False False False False False False False False\n",
            " False False False False False  True  True False False False False False\n",
            " False False False False False False False False  True  True False False\n",
            " False False False False False  True  True False False False False False\n",
            " False False False False False]\n",
            "8\n"
          ]
        }
      ],
      "source": [
        "Q3 = np.percentile(df['thickness'],75,method = 'midpoint')\n",
        "Q1 = np.percentile(df['thickness'],25,method = 'midpoint')\n",
        "IQR = Q3 - Q1\n",
        "print(IQR)\n",
        "upper = Q3 + 1.5*IQR\n",
        "upper_array = np.array(df['thickness']>= upper)\n",
        "print(\"Upper Bound is :\",upper)\n",
        "print(upper_array)\n",
        "print(upper_array.sum())"
      ]
    },
    {
      "cell_type": "code",
      "execution_count": 45,
      "metadata": {
        "colab": {
          "base_uri": "https://localhost:8080/"
        },
        "id": "-cZNR197v3w_",
        "outputId": "32a999d1-8fdd-4cc5-fe6e-cdf4cca81c5e"
      },
      "outputs": [
        {
          "name": "stdout",
          "output_type": "stream",
          "text": [
            "Lower Bound is : 4.299999999999998\n",
            "[False False False False False False False False False False False False\n",
            " False False False False False False False False False False False False\n",
            " False False False False False False False False False False False False\n",
            " False False False False False False False False False False False False\n",
            " False False False False False False False False False False False False\n",
            " False False False False False False False False False False False False\n",
            " False False False False False False False False False False False False\n",
            " False False False False False False False False False False False False\n",
            " False False False False False False False False False False False False\n",
            " False False False False False False False False False False False False\n",
            " False False False False False False False False False False False False\n",
            " False False False False False False False False False False False False\n",
            " False False False False False False False False False False False False\n",
            " False False False False False]\n",
            "0\n"
          ]
        }
      ],
      "source": [
        "lower = Q1 - 1.5*IQR\n",
        "lower_array = np.array(df['thickness']<=lower)\n",
        "print(\"Lower Bound is :\",lower)\n",
        "print(lower_array)\n",
        "print(lower_array.sum())"
      ]
    },
    {
      "cell_type": "code",
      "execution_count": 46,
      "metadata": {
        "colab": {
          "base_uri": "https://localhost:8080/",
          "height": 849
        },
        "id": "Jx49VfkcvJbH",
        "outputId": "06a5258d-edc7-4851-c199-959dde286ba4"
      },
      "outputs": [
        {
          "data": {
            "image/png": "[encoded data removed]",
            "text/plain": [
              "<Figure size 640x480 with 1 Axes>"
            ]
          },
          "metadata": {},
          "output_type": "display_data"
        },
        {
          "data": {
            "image/png": "[encoded data removed]",
            "text/plain": [
              "<Figure size 640x480 with 1 Axes>"
            ]
          },
          "metadata": {},
          "output_type": "display_data"
        }
      ],
      "source": [
        "def box_plot_removal(df,column,threshold):\n",
        "    sns.boxplot(df[column])\n",
        "    plt.title(f'Original box Plot :{column}')\n",
        "    plt.show()\n",
        "    removed_outliers = df[df[column]<=threshold]\n",
        "    sns.boxplot(removed_outliers[column])\n",
        "    plt.title(f'Removed Outliers box plot{column}')\n",
        "    plt.show()\n",
        "    return removed_outliers\n",
        "th = 13\n",
        "no_outliers = box_plot_removal(df,'thickness',th)\n"
      ]
    },
    {
      "cell_type": "code",
      "execution_count": 47,
      "metadata": {
        "colab": {
          "base_uri": "https://localhost:8080/",
          "height": 423
        },
        "id": "qtXTOgZMzDXe",
        "outputId": "5e59a204-0b32-49f3-c4b1-e3780aaba0a6"
      },
      "outputs": [
        {
          "data": {
            "text/html": [
              "<div>\n",
              "<style scoped>\n",
              "    .dataframe tbody tr th:only-of-type {\n",
              "        vertical-align: middle;\n",
              "    }\n",
              "\n",
              "    .dataframe tbody tr th {\n",
              "        vertical-align: top;\n",
              "    }\n",
              "\n",
              "    .dataframe thead th {\n",
              "        text-align: right;\n",
              "    }\n",
              "</style>\n",
              "<table border=\"1\" class=\"dataframe\">\n",
              "  <thead>\n",
              "    <tr style=\"text-align: right;\">\n",
              "      <th></th>\n",
              "      <th>Product_id</th>\n",
              "      <th>Price</th>\n",
              "      <th>Sale</th>\n",
              "      <th>weight</th>\n",
              "      <th>resoloution</th>\n",
              "      <th>ppi</th>\n",
              "      <th>cpu core</th>\n",
              "      <th>cpu freq</th>\n",
              "      <th>internal mem</th>\n",
              "      <th>ram</th>\n",
              "      <th>RearCam</th>\n",
              "      <th>Front_Cam</th>\n",
              "      <th>battery</th>\n",
              "      <th>thickness</th>\n",
              "    </tr>\n",
              "  </thead>\n",
              "  <tbody>\n",
              "    <tr>\n",
              "      <th>0</th>\n",
              "      <td>203</td>\n",
              "      <td>2357</td>\n",
              "      <td>10</td>\n",
              "      <td>135.0</td>\n",
              "      <td>5.20</td>\n",
              "      <td>424</td>\n",
              "      <td>8</td>\n",
              "      <td>1.350</td>\n",
              "      <td>16.0</td>\n",
              "      <td>3.000</td>\n",
              "      <td>13.00</td>\n",
              "      <td>8.0</td>\n",
              "      <td>2610</td>\n",
              "      <td>7.4</td>\n",
              "    </tr>\n",
              "    <tr>\n",
              "      <th>1</th>\n",
              "      <td>880</td>\n",
              "      <td>1749</td>\n",
              "      <td>10</td>\n",
              "      <td>125.0</td>\n",
              "      <td>4.00</td>\n",
              "      <td>233</td>\n",
              "      <td>2</td>\n",
              "      <td>1.300</td>\n",
              "      <td>4.0</td>\n",
              "      <td>1.000</td>\n",
              "      <td>3.15</td>\n",
              "      <td>0.0</td>\n",
              "      <td>1700</td>\n",
              "      <td>9.9</td>\n",
              "    </tr>\n",
              "    <tr>\n",
              "      <th>2</th>\n",
              "      <td>40</td>\n",
              "      <td>1916</td>\n",
              "      <td>10</td>\n",
              "      <td>110.0</td>\n",
              "      <td>4.70</td>\n",
              "      <td>312</td>\n",
              "      <td>4</td>\n",
              "      <td>1.200</td>\n",
              "      <td>8.0</td>\n",
              "      <td>1.500</td>\n",
              "      <td>13.00</td>\n",
              "      <td>5.0</td>\n",
              "      <td>2000</td>\n",
              "      <td>7.6</td>\n",
              "    </tr>\n",
              "    <tr>\n",
              "      <th>3</th>\n",
              "      <td>99</td>\n",
              "      <td>1315</td>\n",
              "      <td>11</td>\n",
              "      <td>118.5</td>\n",
              "      <td>4.00</td>\n",
              "      <td>233</td>\n",
              "      <td>2</td>\n",
              "      <td>1.300</td>\n",
              "      <td>4.0</td>\n",
              "      <td>0.512</td>\n",
              "      <td>3.15</td>\n",
              "      <td>0.0</td>\n",
              "      <td>1400</td>\n",
              "      <td>11.0</td>\n",
              "    </tr>\n",
              "    <tr>\n",
              "      <th>4</th>\n",
              "      <td>880</td>\n",
              "      <td>1749</td>\n",
              "      <td>11</td>\n",
              "      <td>125.0</td>\n",
              "      <td>4.00</td>\n",
              "      <td>233</td>\n",
              "      <td>2</td>\n",
              "      <td>1.300</td>\n",
              "      <td>4.0</td>\n",
              "      <td>1.000</td>\n",
              "      <td>3.15</td>\n",
              "      <td>0.0</td>\n",
              "      <td>1700</td>\n",
              "      <td>9.9</td>\n",
              "    </tr>\n",
              "    <tr>\n",
              "      <th>...</th>\n",
              "      <td>...</td>\n",
              "      <td>...</td>\n",
              "      <td>...</td>\n",
              "      <td>...</td>\n",
              "      <td>...</td>\n",
              "      <td>...</td>\n",
              "      <td>...</td>\n",
              "      <td>...</td>\n",
              "      <td>...</td>\n",
              "      <td>...</td>\n",
              "      <td>...</td>\n",
              "      <td>...</td>\n",
              "      <td>...</td>\n",
              "      <td>...</td>\n",
              "    </tr>\n",
              "    <tr>\n",
              "      <th>156</th>\n",
              "      <td>1206</td>\n",
              "      <td>3551</td>\n",
              "      <td>4638</td>\n",
              "      <td>178.0</td>\n",
              "      <td>5.46</td>\n",
              "      <td>538</td>\n",
              "      <td>4</td>\n",
              "      <td>1.875</td>\n",
              "      <td>128.0</td>\n",
              "      <td>6.000</td>\n",
              "      <td>12.00</td>\n",
              "      <td>16.0</td>\n",
              "      <td>4080</td>\n",
              "      <td>8.4</td>\n",
              "    </tr>\n",
              "    <tr>\n",
              "      <th>157</th>\n",
              "      <td>1296</td>\n",
              "      <td>3211</td>\n",
              "      <td>8016</td>\n",
              "      <td>170.0</td>\n",
              "      <td>5.50</td>\n",
              "      <td>534</td>\n",
              "      <td>4</td>\n",
              "      <td>1.975</td>\n",
              "      <td>128.0</td>\n",
              "      <td>6.000</td>\n",
              "      <td>20.00</td>\n",
              "      <td>8.0</td>\n",
              "      <td>3400</td>\n",
              "      <td>7.9</td>\n",
              "    </tr>\n",
              "    <tr>\n",
              "      <th>158</th>\n",
              "      <td>856</td>\n",
              "      <td>3260</td>\n",
              "      <td>8809</td>\n",
              "      <td>150.0</td>\n",
              "      <td>5.50</td>\n",
              "      <td>401</td>\n",
              "      <td>8</td>\n",
              "      <td>2.200</td>\n",
              "      <td>64.0</td>\n",
              "      <td>4.000</td>\n",
              "      <td>20.00</td>\n",
              "      <td>20.0</td>\n",
              "      <td>3000</td>\n",
              "      <td>6.8</td>\n",
              "    </tr>\n",
              "    <tr>\n",
              "      <th>159</th>\n",
              "      <td>1296</td>\n",
              "      <td>3211</td>\n",
              "      <td>8946</td>\n",
              "      <td>170.0</td>\n",
              "      <td>5.50</td>\n",
              "      <td>534</td>\n",
              "      <td>4</td>\n",
              "      <td>1.975</td>\n",
              "      <td>128.0</td>\n",
              "      <td>6.000</td>\n",
              "      <td>20.00</td>\n",
              "      <td>8.0</td>\n",
              "      <td>3400</td>\n",
              "      <td>7.9</td>\n",
              "    </tr>\n",
              "    <tr>\n",
              "      <th>160</th>\n",
              "      <td>1131</td>\n",
              "      <td>2536</td>\n",
              "      <td>9807</td>\n",
              "      <td>202.0</td>\n",
              "      <td>6.00</td>\n",
              "      <td>367</td>\n",
              "      <td>8</td>\n",
              "      <td>1.500</td>\n",
              "      <td>16.0</td>\n",
              "      <td>3.000</td>\n",
              "      <td>21.50</td>\n",
              "      <td>16.0</td>\n",
              "      <td>2700</td>\n",
              "      <td>8.4</td>\n",
              "    </tr>\n",
              "  </tbody>\n",
              "</table>\n",
              "<p>153 rows × 14 columns</p>\n",
              "</div>"
            ],
            "text/plain": [
              "     Product_id  Price  Sale  weight  resoloution  ppi  cpu core  cpu freq  \\\n",
              "0           203   2357    10   135.0         5.20  424         8     1.350   \n",
              "1           880   1749    10   125.0         4.00  233         2     1.300   \n",
              "2            40   1916    10   110.0         4.70  312         4     1.200   \n",
              "3            99   1315    11   118.5         4.00  233         2     1.300   \n",
              "4           880   1749    11   125.0         4.00  233         2     1.300   \n",
              "..          ...    ...   ...     ...          ...  ...       ...       ...   \n",
              "156        1206   3551  4638   178.0         5.46  538         4     1.875   \n",
              "157        1296   3211  8016   170.0         5.50  534         4     1.975   \n",
              "158         856   3260  8809   150.0         5.50  401         8     2.200   \n",
              "159        1296   3211  8946   170.0         5.50  534         4     1.975   \n",
              "160        1131   2536  9807   202.0         6.00  367         8     1.500   \n",
              "\n",
              "     internal mem    ram  RearCam  Front_Cam  battery  thickness  \n",
              "0            16.0  3.000    13.00        8.0     2610        7.4  \n",
              "1             4.0  1.000     3.15        0.0     1700        9.9  \n",
              "2             8.0  1.500    13.00        5.0     2000        7.6  \n",
              "3             4.0  0.512     3.15        0.0     1400       11.0  \n",
              "4             4.0  1.000     3.15        0.0     1700        9.9  \n",
              "..            ...    ...      ...        ...      ...        ...  \n",
              "156         128.0  6.000    12.00       16.0     4080        8.4  \n",
              "157         128.0  6.000    20.00        8.0     3400        7.9  \n",
              "158          64.0  4.000    20.00       20.0     3000        6.8  \n",
              "159         128.0  6.000    20.00        8.0     3400        7.9  \n",
              "160          16.0  3.000    21.50       16.0     2700        8.4  \n",
              "\n",
              "[153 rows x 14 columns]"
            ]
          },
          "execution_count": 47,
          "metadata": {},
          "output_type": "execute_result"
        }
      ],
      "source": [
        "no_outliers"
      ]
    },
    {
      "cell_type": "code",
      "execution_count": 48,
      "metadata": {
        "colab": {
          "base_uri": "https://localhost:8080/",
          "height": 466
        },
        "id": "LegQ0iOwzGse",
        "outputId": "028c1869-ddcd-4c07-972b-d8682ec295d1"
      },
      "outputs": [
        {
          "data": {
            "text/plain": [
              "<Axes: xlabel='thickness', ylabel='Count'>"
            ]
          },
          "execution_count": 48,
          "metadata": {},
          "output_type": "execute_result"
        },
        {
          "data": {
            "image/png": "[encoded data removed]",
            "text/plain": [
              "<Figure size 640x480 with 1 Axes>"
            ]
          },
          "metadata": {},
          "output_type": "display_data"
        }
      ],
      "source": [
        "sns.histplot(no_outliers['thickness'],kde =True,bins = 15, color = 'skyblue')"
      ]
    },
    {
      "cell_type": "code",
      "execution_count": 49,
      "metadata": {
        "colab": {
          "base_uri": "https://localhost:8080/"
        },
        "id": "ihQqWdGzz7Xi",
        "outputId": "3da82eab-b95b-4971-b1af-6641bbd86a7b"
      },
      "outputs": [
        {
          "name": "stdout",
          "output_type": "stream",
          "text": [
            "Mean : 8.921739130434782\n",
            "Median : 8.4\n"
          ]
        }
      ],
      "source": [
        "print(f\"Mean : {df['thickness'].mean()}\")\n",
        "print(f\"Median : {df['thickness'].median()}\")"
      ]
    },
    {
      "cell_type": "markdown",
      "metadata": {
        "id": "n0j-8fSi1Fk2"
      },
      "source": [
        "Here mean > median indicates the data is positively skewed."
      ]
    },
    {
      "cell_type": "code",
      "execution_count": 50,
      "metadata": {
        "colab": {
          "base_uri": "https://localhost:8080/"
        },
        "id": "Wl6CqpMY0dQE",
        "outputId": "04bfb0f1-b857-490e-f1a9-914b4f3d58ed"
      },
      "outputs": [
        {
          "name": "stdout",
          "output_type": "stream",
          "text": [
            "Mean : 8.58562091503268\n",
            "Median : 8.4\n"
          ]
        }
      ],
      "source": [
        "print(f\"Mean : {no_outliers['thickness'].mean()}\")\n",
        "print(f\"Median : {no_outliers['thickness'].median()}\")"
      ]
    },
    {
      "cell_type": "code",
      "execution_count": 51,
      "metadata": {
        "colab": {
          "base_uri": "https://localhost:8080/"
        },
        "id": "0wHs8ZZY1UjQ",
        "outputId": "04843bb3-4b1c-4616-8743-c592d1eaf32f"
      },
      "outputs": [
        {
          "name": "stdout",
          "output_type": "stream",
          "text": [
            "7.6\n",
            "7.6\n",
            "9.8\n",
            "9.8\n"
          ]
        }
      ],
      "source": [
        "Q1_1 = df['thickness'].quantile(0.25)\n",
        "Q3_1 = df['thickness'].quantile(0.75)\n",
        "print(Q1)\n",
        "print(Q1_1)\n",
        "print(Q3)\n",
        "print(Q3_1)\n"
      ]
    },
    {
      "cell_type": "code",
      "execution_count": 52,
      "metadata": {
        "colab": {
          "base_uri": "https://localhost:8080/",
          "height": 466
        },
        "id": "0e-RxqTg2NJk",
        "outputId": "f90bc9a9-7cde-4871-c55e-cb2a2b905e8b"
      },
      "outputs": [
        {
          "data": {
            "text/plain": [
              "<Axes: xlabel='thickness', ylabel='Count'>"
            ]
          },
          "execution_count": 52,
          "metadata": {},
          "output_type": "execute_result"
        },
        {
          "data": {
            "image/png": "[encoded data removed]",
            "text/plain": [
              "<Figure size 640x480 with 1 Axes>"
            ]
          },
          "metadata": {},
          "output_type": "display_data"
        }
      ],
      "source": [
        "df_no_outliers = df[(df['thickness']>= lower) & (df['thickness']<= upper)]\n",
        "sns.histplot(df_no_outliers['thickness'],kde= True,bins = 15)"
      ]
    },
    {
      "cell_type": "code",
      "execution_count": 53,
      "metadata": {
        "colab": {
          "base_uri": "https://localhost:8080/",
          "height": 532
        },
        "id": "TaVOybLT20UO",
        "outputId": "7269951b-2f33-4395-c748-115c4990e0aa"
      },
      "outputs": [
        {
          "data": {
            "text/plain": [
              "<Axes: >"
            ]
          },
          "execution_count": 53,
          "metadata": {},
          "output_type": "execute_result"
        },
        {
          "data": {
            "image/png": "[encoded data removed]",
            "text/plain": [
              "<Figure size 640x480 with 2 Axes>"
            ]
          },
          "metadata": {},
          "output_type": "display_data"
        }
      ],
      "source": [
        "sns.heatmap(df_no_outliers.corr(numeric_only = True))"
      ]
    },
    {
      "cell_type": "code",
      "execution_count": 54,
      "metadata": {
        "colab": {
          "base_uri": "https://localhost:8080/",
          "height": 532
        },
        "id": "5B5tMl8t3OFI",
        "outputId": "3e1c6cad-7bc1-4c4b-e96f-9acb7d8afb8e"
      },
      "outputs": [
        {
          "data": {
            "text/plain": [
              "<Axes: >"
            ]
          },
          "execution_count": 54,
          "metadata": {},
          "output_type": "execute_result"
        },
        {
          "data": {
            "image/png": "[encoded data removed]",
            "text/plain": [
              "<Figure size 640x480 with 2 Axes>"
            ]
          },
          "metadata": {},
          "output_type": "display_data"
        }
      ],
      "source": [
        "sns.heatmap(df.corr(numeric_only=True))"
      ]
    },
    {
      "cell_type": "code",
      "execution_count": 55,
      "metadata": {
        "colab": {
          "base_uri": "https://localhost:8080/"
        },
        "id": "anA2IAdN3WOF",
        "outputId": "eeb6856b-6552-4d04-d426-fb9ae0c2efd3"
      },
      "outputs": [
        {
          "name": "stdout",
          "output_type": "stream",
          "text": [
            "Price           1.000000\n",
            "ram             0.896915\n",
            "ppi             0.817614\n",
            "internal mem    0.776738\n",
            "RearCam         0.739538\n",
            "cpu freq        0.727383\n",
            "cpu core        0.686811\n",
            "Front_Cam       0.675286\n",
            "battery         0.559946\n",
            "resoloution     0.404010\n",
            "Sale            0.273263\n",
            "Product_id      0.165136\n",
            "weight          0.144555\n",
            "thickness      -0.716773\n",
            "Name: Price, dtype: float64\n"
          ]
        }
      ],
      "source": [
        "cor_matirx = df.corr(numeric_only=True)\n",
        "target_corr = cor_matirx['Price'].sort_values(ascending = False)\n",
        "print(target_corr)"
      ]
    },
    {
      "cell_type": "code",
      "execution_count": 56,
      "metadata": {
        "colab": {
          "base_uri": "https://localhost:8080/",
          "height": 531
        },
        "id": "LdrY8L1i5tJW",
        "outputId": "1669844d-e0e4-4df9-8c9c-dab6f09b0585"
      },
      "outputs": [
        {
          "data": {
            "image/png": "[encoded data removed]",
            "text/plain": [
              "<Figure size 640x480 with 2 Axes>"
            ]
          },
          "metadata": {},
          "output_type": "display_data"
        }
      ],
      "source": [
        "top_features = target_corr[1:11].index\n",
        "sns.heatmap(df[top_features].corr(),annot = True,cmap = 'coolwarm')\n",
        "plt.title(\"Top Features Correlation Heatmap\")\n",
        "plt.show()"
      ]
    },
    {
      "cell_type": "code",
      "execution_count": 57,
      "metadata": {
        "colab": {
          "base_uri": "https://localhost:8080/"
        },
        "id": "09n77M-A9rQc",
        "outputId": "816fa216-c0be-4835-a22f-0bbe0407d812"
      },
      "outputs": [
        {
          "name": "stderr",
          "output_type": "stream",
          "text": [
            "C:\\Users\\nikhi\\AppData\\Local\\Temp\\ipykernel_8128\\2278544473.py:1: SettingWithCopyWarning: \n",
            "A value is trying to be set on a copy of a slice from a DataFrame\n",
            "\n",
            "See the caveats in the documentation: https://pandas.pydata.org/pandas-docs/stable/user_guide/indexing.html#returning-a-view-versus-a-copy\n",
            "  df_no_outliers.drop('Product_id',axis = 1,inplace = True)\n"
          ]
        }
      ],
      "source": [
        "df_no_outliers.drop('Product_id',axis = 1,inplace = True)"
      ]
    },
    {
      "cell_type": "code",
      "execution_count": 58,
      "metadata": {
        "colab": {
          "base_uri": "https://localhost:8080/",
          "height": 423
        },
        "id": "inOpBg0P91QW",
        "outputId": "ad356e66-efc8-4430-9768-13010f0c1115"
      },
      "outputs": [
        {
          "data": {
            "text/html": [
              "<div>\n",
              "<style scoped>\n",
              "    .dataframe tbody tr th:only-of-type {\n",
              "        vertical-align: middle;\n",
              "    }\n",
              "\n",
              "    .dataframe tbody tr th {\n",
              "        vertical-align: top;\n",
              "    }\n",
              "\n",
              "    .dataframe thead th {\n",
              "        text-align: right;\n",
              "    }\n",
              "</style>\n",
              "<table border=\"1\" class=\"dataframe\">\n",
              "  <thead>\n",
              "    <tr style=\"text-align: right;\">\n",
              "      <th></th>\n",
              "      <th>Price</th>\n",
              "      <th>Sale</th>\n",
              "      <th>weight</th>\n",
              "      <th>resoloution</th>\n",
              "      <th>ppi</th>\n",
              "      <th>cpu core</th>\n",
              "      <th>cpu freq</th>\n",
              "      <th>internal mem</th>\n",
              "      <th>ram</th>\n",
              "      <th>RearCam</th>\n",
              "      <th>Front_Cam</th>\n",
              "      <th>battery</th>\n",
              "      <th>thickness</th>\n",
              "    </tr>\n",
              "  </thead>\n",
              "  <tbody>\n",
              "    <tr>\n",
              "      <th>0</th>\n",
              "      <td>2357</td>\n",
              "      <td>10</td>\n",
              "      <td>135.0</td>\n",
              "      <td>5.20</td>\n",
              "      <td>424</td>\n",
              "      <td>8</td>\n",
              "      <td>1.350</td>\n",
              "      <td>16.0</td>\n",
              "      <td>3.000</td>\n",
              "      <td>13.00</td>\n",
              "      <td>8.0</td>\n",
              "      <td>2610</td>\n",
              "      <td>7.4</td>\n",
              "    </tr>\n",
              "    <tr>\n",
              "      <th>1</th>\n",
              "      <td>1749</td>\n",
              "      <td>10</td>\n",
              "      <td>125.0</td>\n",
              "      <td>4.00</td>\n",
              "      <td>233</td>\n",
              "      <td>2</td>\n",
              "      <td>1.300</td>\n",
              "      <td>4.0</td>\n",
              "      <td>1.000</td>\n",
              "      <td>3.15</td>\n",
              "      <td>0.0</td>\n",
              "      <td>1700</td>\n",
              "      <td>9.9</td>\n",
              "    </tr>\n",
              "    <tr>\n",
              "      <th>2</th>\n",
              "      <td>1916</td>\n",
              "      <td>10</td>\n",
              "      <td>110.0</td>\n",
              "      <td>4.70</td>\n",
              "      <td>312</td>\n",
              "      <td>4</td>\n",
              "      <td>1.200</td>\n",
              "      <td>8.0</td>\n",
              "      <td>1.500</td>\n",
              "      <td>13.00</td>\n",
              "      <td>5.0</td>\n",
              "      <td>2000</td>\n",
              "      <td>7.6</td>\n",
              "    </tr>\n",
              "    <tr>\n",
              "      <th>3</th>\n",
              "      <td>1315</td>\n",
              "      <td>11</td>\n",
              "      <td>118.5</td>\n",
              "      <td>4.00</td>\n",
              "      <td>233</td>\n",
              "      <td>2</td>\n",
              "      <td>1.300</td>\n",
              "      <td>4.0</td>\n",
              "      <td>0.512</td>\n",
              "      <td>3.15</td>\n",
              "      <td>0.0</td>\n",
              "      <td>1400</td>\n",
              "      <td>11.0</td>\n",
              "    </tr>\n",
              "    <tr>\n",
              "      <th>4</th>\n",
              "      <td>1749</td>\n",
              "      <td>11</td>\n",
              "      <td>125.0</td>\n",
              "      <td>4.00</td>\n",
              "      <td>233</td>\n",
              "      <td>2</td>\n",
              "      <td>1.300</td>\n",
              "      <td>4.0</td>\n",
              "      <td>1.000</td>\n",
              "      <td>3.15</td>\n",
              "      <td>0.0</td>\n",
              "      <td>1700</td>\n",
              "      <td>9.9</td>\n",
              "    </tr>\n",
              "    <tr>\n",
              "      <th>...</th>\n",
              "      <td>...</td>\n",
              "      <td>...</td>\n",
              "      <td>...</td>\n",
              "      <td>...</td>\n",
              "      <td>...</td>\n",
              "      <td>...</td>\n",
              "      <td>...</td>\n",
              "      <td>...</td>\n",
              "      <td>...</td>\n",
              "      <td>...</td>\n",
              "      <td>...</td>\n",
              "      <td>...</td>\n",
              "      <td>...</td>\n",
              "    </tr>\n",
              "    <tr>\n",
              "      <th>156</th>\n",
              "      <td>3551</td>\n",
              "      <td>4638</td>\n",
              "      <td>178.0</td>\n",
              "      <td>5.46</td>\n",
              "      <td>538</td>\n",
              "      <td>4</td>\n",
              "      <td>1.875</td>\n",
              "      <td>128.0</td>\n",
              "      <td>6.000</td>\n",
              "      <td>12.00</td>\n",
              "      <td>16.0</td>\n",
              "      <td>4080</td>\n",
              "      <td>8.4</td>\n",
              "    </tr>\n",
              "    <tr>\n",
              "      <th>157</th>\n",
              "      <td>3211</td>\n",
              "      <td>8016</td>\n",
              "      <td>170.0</td>\n",
              "      <td>5.50</td>\n",
              "      <td>534</td>\n",
              "      <td>4</td>\n",
              "      <td>1.975</td>\n",
              "      <td>128.0</td>\n",
              "      <td>6.000</td>\n",
              "      <td>20.00</td>\n",
              "      <td>8.0</td>\n",
              "      <td>3400</td>\n",
              "      <td>7.9</td>\n",
              "    </tr>\n",
              "    <tr>\n",
              "      <th>158</th>\n",
              "      <td>3260</td>\n",
              "      <td>8809</td>\n",
              "      <td>150.0</td>\n",
              "      <td>5.50</td>\n",
              "      <td>401</td>\n",
              "      <td>8</td>\n",
              "      <td>2.200</td>\n",
              "      <td>64.0</td>\n",
              "      <td>4.000</td>\n",
              "      <td>20.00</td>\n",
              "      <td>20.0</td>\n",
              "      <td>3000</td>\n",
              "      <td>6.8</td>\n",
              "    </tr>\n",
              "    <tr>\n",
              "      <th>159</th>\n",
              "      <td>3211</td>\n",
              "      <td>8946</td>\n",
              "      <td>170.0</td>\n",
              "      <td>5.50</td>\n",
              "      <td>534</td>\n",
              "      <td>4</td>\n",
              "      <td>1.975</td>\n",
              "      <td>128.0</td>\n",
              "      <td>6.000</td>\n",
              "      <td>20.00</td>\n",
              "      <td>8.0</td>\n",
              "      <td>3400</td>\n",
              "      <td>7.9</td>\n",
              "    </tr>\n",
              "    <tr>\n",
              "      <th>160</th>\n",
              "      <td>2536</td>\n",
              "      <td>9807</td>\n",
              "      <td>202.0</td>\n",
              "      <td>6.00</td>\n",
              "      <td>367</td>\n",
              "      <td>8</td>\n",
              "      <td>1.500</td>\n",
              "      <td>16.0</td>\n",
              "      <td>3.000</td>\n",
              "      <td>21.50</td>\n",
              "      <td>16.0</td>\n",
              "      <td>2700</td>\n",
              "      <td>8.4</td>\n",
              "    </tr>\n",
              "  </tbody>\n",
              "</table>\n",
              "<p>153 rows × 13 columns</p>\n",
              "</div>"
            ],
            "text/plain": [
              "     Price  Sale  weight  resoloution  ppi  cpu core  cpu freq  internal mem  \\\n",
              "0     2357    10   135.0         5.20  424         8     1.350          16.0   \n",
              "1     1749    10   125.0         4.00  233         2     1.300           4.0   \n",
              "2     1916    10   110.0         4.70  312         4     1.200           8.0   \n",
              "3     1315    11   118.5         4.00  233         2     1.300           4.0   \n",
              "4     1749    11   125.0         4.00  233         2     1.300           4.0   \n",
              "..     ...   ...     ...          ...  ...       ...       ...           ...   \n",
              "156   3551  4638   178.0         5.46  538         4     1.875         128.0   \n",
              "157   3211  8016   170.0         5.50  534         4     1.975         128.0   \n",
              "158   3260  8809   150.0         5.50  401         8     2.200          64.0   \n",
              "159   3211  8946   170.0         5.50  534         4     1.975         128.0   \n",
              "160   2536  9807   202.0         6.00  367         8     1.500          16.0   \n",
              "\n",
              "       ram  RearCam  Front_Cam  battery  thickness  \n",
              "0    3.000    13.00        8.0     2610        7.4  \n",
              "1    1.000     3.15        0.0     1700        9.9  \n",
              "2    1.500    13.00        5.0     2000        7.6  \n",
              "3    0.512     3.15        0.0     1400       11.0  \n",
              "4    1.000     3.15        0.0     1700        9.9  \n",
              "..     ...      ...        ...      ...        ...  \n",
              "156  6.000    12.00       16.0     4080        8.4  \n",
              "157  6.000    20.00        8.0     3400        7.9  \n",
              "158  4.000    20.00       20.0     3000        6.8  \n",
              "159  6.000    20.00        8.0     3400        7.9  \n",
              "160  3.000    21.50       16.0     2700        8.4  \n",
              "\n",
              "[153 rows x 13 columns]"
            ]
          },
          "execution_count": 58,
          "metadata": {},
          "output_type": "execute_result"
        }
      ],
      "source": [
        "df_no_outliers"
      ]
    },
    {
      "cell_type": "code",
      "execution_count": 59,
      "metadata": {
        "colab": {
          "base_uri": "https://localhost:8080/",
          "height": 458
        },
        "id": "A0goqGUm-YmQ",
        "outputId": "d3c076b0-47bd-407e-fb79-3f9e4676d964"
      },
      "outputs": [
        {
          "data": {
            "text/plain": [
              "0      2357\n",
              "1      1749\n",
              "2      1916\n",
              "3      1315\n",
              "4      1749\n",
              "       ... \n",
              "156    3551\n",
              "157    3211\n",
              "158    3260\n",
              "159    3211\n",
              "160    2536\n",
              "Name: Price, Length: 153, dtype: int64"
            ]
          },
          "execution_count": 59,
          "metadata": {},
          "output_type": "execute_result"
        }
      ],
      "source": [
        "x = df_no_outliers.iloc[:,1:]\n",
        "y = df_no_outliers['Price']\n",
        "y\n"
      ]
    },
    {
      "cell_type": "code",
      "execution_count": 60,
      "metadata": {
        "colab": {
          "base_uri": "https://localhost:8080/",
          "height": 458
        },
        "id": "BNT6e074_AsH",
        "outputId": "38aee26a-f35d-4423-f66e-822afe5927e6"
      },
      "outputs": [
        {
          "data": {
            "text/plain": [
              "110     754\n",
              "92     1831\n",
              "106    2744\n",
              "16     2258\n",
              "113     754\n",
              "       ... \n",
              "71     2276\n",
              "108    1676\n",
              "14     2580\n",
              "94     1511\n",
              "104    2744\n",
              "Name: Price, Length: 107, dtype: int64"
            ]
          },
          "execution_count": 60,
          "metadata": {},
          "output_type": "execute_result"
        }
      ],
      "source": [
        "from sklearn.model_selection import train_test_split\n",
        "x_train,x_test,y_train,y_test = train_test_split(x,y,test_size = 0.30,random_state=42)\n",
        "y_train"
      ]
    },
    {
      "cell_type": "code",
      "execution_count": 61,
      "metadata": {
        "id": "pk8JLsw6_T6b"
      },
      "outputs": [],
      "source": [
        "from sklearn.preprocessing import MinMaxScaler\n",
        "scaler = MinMaxScaler()\n",
        "scaler.fit(x_train)\n",
        "x_train = scaler.transform(x_train)\n",
        "x_test = scaler.transform(x_test)"
      ]
    },
    {
      "cell_type": "code",
      "execution_count": 62,
      "metadata": {
        "colab": {
          "base_uri": "https://localhost:8080/"
        },
        "id": "JpTOX8wDAkEa",
        "outputId": "94df0abf-e29a-49ae-b7fc-51712025354a"
      },
      "outputs": [
        {
          "name": "stdout",
          "output_type": "stream",
          "text": [
            "r2_score is 0.9214940610510307\n",
            "mape is : 0.061943893117078555\n",
            "mean abs error is :136.53426044290774\n",
            "Root mean squared error is :164.62980607869596\n"
          ]
        }
      ],
      "source": [
        "from sklearn.linear_model import LinearRegression\n",
        "from sklearn.metrics import r2_score,mean_squared_error,mean_absolute_percentage_error,mean_absolute_error,root_mean_squared_error\n",
        "model = LinearRegression()\n",
        "model.fit(x_train,y_train)\n",
        "y_pred = model.predict(x_test)\n",
        "print(f\"r2_score is {r2_score(y_test,y_pred)}\")\n",
        "print(f\"mape is : {mean_absolute_percentage_error(y_test,y_pred)}\")\n",
        "print(f\"mean abs error is :{mean_absolute_error(y_test,y_pred)}\")\n",
        "print(f\"Root mean squared error is :{root_mean_squared_error(y_test,y_pred)}\")\n"
      ]
    },
    {
      "cell_type": "code",
      "execution_count": 63,
      "metadata": {
        "colab": {
          "base_uri": "https://localhost:8080/",
          "height": 1000
        },
        "id": "15BRRbH4FJpa",
        "outputId": "034f3b4a-1379-4f74-986f-cf5884c20b91"
      },
      "outputs": [
        {
          "data": {
            "text/html": [
              "<div>\n",
              "<style scoped>\n",
              "    .dataframe tbody tr th:only-of-type {\n",
              "        vertical-align: middle;\n",
              "    }\n",
              "\n",
              "    .dataframe tbody tr th {\n",
              "        vertical-align: top;\n",
              "    }\n",
              "\n",
              "    .dataframe thead th {\n",
              "        text-align: right;\n",
              "    }\n",
              "</style>\n",
              "<table border=\"1\" class=\"dataframe\">\n",
              "  <thead>\n",
              "    <tr style=\"text-align: right;\">\n",
              "      <th></th>\n",
              "      <th>Actual Value</th>\n",
              "      <th>Predicted Value</th>\n",
              "      <th>Difference</th>\n",
              "    </tr>\n",
              "  </thead>\n",
              "  <tbody>\n",
              "    <tr>\n",
              "      <th>85</th>\n",
              "      <td>1396</td>\n",
              "      <td>1492.038275</td>\n",
              "      <td>-96.038275</td>\n",
              "    </tr>\n",
              "    <tr>\n",
              "      <th>88</th>\n",
              "      <td>1302</td>\n",
              "      <td>1466.378246</td>\n",
              "      <td>-164.378246</td>\n",
              "    </tr>\n",
              "    <tr>\n",
              "      <th>99</th>\n",
              "      <td>1511</td>\n",
              "      <td>1621.863659</td>\n",
              "      <td>-110.863659</td>\n",
              "    </tr>\n",
              "    <tr>\n",
              "      <th>117</th>\n",
              "      <td>3287</td>\n",
              "      <td>3080.019757</td>\n",
              "      <td>206.980243</td>\n",
              "    </tr>\n",
              "    <tr>\n",
              "      <th>29</th>\n",
              "      <td>1950</td>\n",
              "      <td>1846.959414</td>\n",
              "      <td>103.040586</td>\n",
              "    </tr>\n",
              "    <tr>\n",
              "      <th>116</th>\n",
              "      <td>3287</td>\n",
              "      <td>3080.461473</td>\n",
              "      <td>206.538527</td>\n",
              "    </tr>\n",
              "    <tr>\n",
              "      <th>78</th>\n",
              "      <td>2714</td>\n",
              "      <td>2587.763872</td>\n",
              "      <td>126.236128</td>\n",
              "    </tr>\n",
              "    <tr>\n",
              "      <th>82</th>\n",
              "      <td>3005</td>\n",
              "      <td>2916.393307</td>\n",
              "      <td>88.606693</td>\n",
              "    </tr>\n",
              "    <tr>\n",
              "      <th>18</th>\n",
              "      <td>1612</td>\n",
              "      <td>1695.494171</td>\n",
              "      <td>-83.494171</td>\n",
              "    </tr>\n",
              "    <tr>\n",
              "      <th>15</th>\n",
              "      <td>1612</td>\n",
              "      <td>1695.532581</td>\n",
              "      <td>-83.532581</td>\n",
              "    </tr>\n",
              "    <tr>\n",
              "      <th>19</th>\n",
              "      <td>1238</td>\n",
              "      <td>1384.083403</td>\n",
              "      <td>-146.083403</td>\n",
              "    </tr>\n",
              "    <tr>\n",
              "      <th>12</th>\n",
              "      <td>2174</td>\n",
              "      <td>1924.146231</td>\n",
              "      <td>249.853769</td>\n",
              "    </tr>\n",
              "    <tr>\n",
              "      <th>9</th>\n",
              "      <td>2580</td>\n",
              "      <td>2430.373147</td>\n",
              "      <td>149.626853</td>\n",
              "    </tr>\n",
              "    <tr>\n",
              "      <th>42</th>\n",
              "      <td>1843</td>\n",
              "      <td>1578.088700</td>\n",
              "      <td>264.911300</td>\n",
              "    </tr>\n",
              "    <tr>\n",
              "      <th>51</th>\n",
              "      <td>1347</td>\n",
              "      <td>1287.530628</td>\n",
              "      <td>59.469372</td>\n",
              "    </tr>\n",
              "    <tr>\n",
              "      <th>69</th>\n",
              "      <td>2323</td>\n",
              "      <td>2480.275347</td>\n",
              "      <td>-157.275347</td>\n",
              "    </tr>\n",
              "    <tr>\n",
              "      <th>111</th>\n",
              "      <td>2975</td>\n",
              "      <td>2904.867461</td>\n",
              "      <td>70.132539</td>\n",
              "    </tr>\n",
              "    <tr>\n",
              "      <th>142</th>\n",
              "      <td>2508</td>\n",
              "      <td>2584.856207</td>\n",
              "      <td>-76.856207</td>\n",
              "    </tr>\n",
              "    <tr>\n",
              "      <th>65</th>\n",
              "      <td>2824</td>\n",
              "      <td>2538.872091</td>\n",
              "      <td>285.127909</td>\n",
              "    </tr>\n",
              "    <tr>\n",
              "      <th>98</th>\n",
              "      <td>1522</td>\n",
              "      <td>1390.109910</td>\n",
              "      <td>131.890090</td>\n",
              "    </tr>\n",
              "    <tr>\n",
              "      <th>75</th>\n",
              "      <td>2276</td>\n",
              "      <td>2312.801387</td>\n",
              "      <td>-36.801387</td>\n",
              "    </tr>\n",
              "    <tr>\n",
              "      <th>127</th>\n",
              "      <td>2491</td>\n",
              "      <td>2606.183517</td>\n",
              "      <td>-115.183517</td>\n",
              "    </tr>\n",
              "    <tr>\n",
              "      <th>31</th>\n",
              "      <td>2977</td>\n",
              "      <td>3100.365523</td>\n",
              "      <td>-123.365523</td>\n",
              "    </tr>\n",
              "    <tr>\n",
              "      <th>66</th>\n",
              "      <td>2746</td>\n",
              "      <td>2827.624054</td>\n",
              "      <td>-81.624054</td>\n",
              "    </tr>\n",
              "    <tr>\n",
              "      <th>55</th>\n",
              "      <td>1777</td>\n",
              "      <td>1501.381547</td>\n",
              "      <td>275.618453</td>\n",
              "    </tr>\n",
              "    <tr>\n",
              "      <th>30</th>\n",
              "      <td>2258</td>\n",
              "      <td>2197.706171</td>\n",
              "      <td>60.293829</td>\n",
              "    </tr>\n",
              "    <tr>\n",
              "      <th>26</th>\n",
              "      <td>2006</td>\n",
              "      <td>1850.622607</td>\n",
              "      <td>155.377393</td>\n",
              "    </tr>\n",
              "    <tr>\n",
              "      <th>135</th>\n",
              "      <td>2445</td>\n",
              "      <td>2381.803606</td>\n",
              "      <td>63.196394</td>\n",
              "    </tr>\n",
              "    <tr>\n",
              "      <th>139</th>\n",
              "      <td>2409</td>\n",
              "      <td>2365.234876</td>\n",
              "      <td>43.765124</td>\n",
              "    </tr>\n",
              "    <tr>\n",
              "      <th>36</th>\n",
              "      <td>1942</td>\n",
              "      <td>2228.664840</td>\n",
              "      <td>-286.664840</td>\n",
              "    </tr>\n",
              "    <tr>\n",
              "      <th>115</th>\n",
              "      <td>2858</td>\n",
              "      <td>2721.130081</td>\n",
              "      <td>136.869919</td>\n",
              "    </tr>\n",
              "    <tr>\n",
              "      <th>96</th>\n",
              "      <td>2562</td>\n",
              "      <td>2433.357701</td>\n",
              "      <td>128.642299</td>\n",
              "    </tr>\n",
              "    <tr>\n",
              "      <th>68</th>\n",
              "      <td>1734</td>\n",
              "      <td>1730.292818</td>\n",
              "      <td>3.707182</td>\n",
              "    </tr>\n",
              "    <tr>\n",
              "      <th>22</th>\n",
              "      <td>2977</td>\n",
              "      <td>3100.442343</td>\n",
              "      <td>-123.442343</td>\n",
              "    </tr>\n",
              "    <tr>\n",
              "      <th>45</th>\n",
              "      <td>1989</td>\n",
              "      <td>2009.807370</td>\n",
              "      <td>-20.807370</td>\n",
              "    </tr>\n",
              "    <tr>\n",
              "      <th>76</th>\n",
              "      <td>2571</td>\n",
              "      <td>2239.408216</td>\n",
              "      <td>331.591784</td>\n",
              "    </tr>\n",
              "    <tr>\n",
              "      <th>11</th>\n",
              "      <td>2006</td>\n",
              "      <td>1850.776247</td>\n",
              "      <td>155.223753</td>\n",
              "    </tr>\n",
              "    <tr>\n",
              "      <th>138</th>\n",
              "      <td>2409</td>\n",
              "      <td>2365.887847</td>\n",
              "      <td>43.112153</td>\n",
              "    </tr>\n",
              "    <tr>\n",
              "      <th>136</th>\n",
              "      <td>2445</td>\n",
              "      <td>2380.612893</td>\n",
              "      <td>64.387107</td>\n",
              "    </tr>\n",
              "    <tr>\n",
              "      <th>132</th>\n",
              "      <td>2466</td>\n",
              "      <td>2629.325366</td>\n",
              "      <td>-163.325366</td>\n",
              "    </tr>\n",
              "    <tr>\n",
              "      <th>27</th>\n",
              "      <td>2938</td>\n",
              "      <td>2733.781571</td>\n",
              "      <td>204.218429</td>\n",
              "    </tr>\n",
              "    <tr>\n",
              "      <th>64</th>\n",
              "      <td>2685</td>\n",
              "      <td>2728.377981</td>\n",
              "      <td>-43.377981</td>\n",
              "    </tr>\n",
              "    <tr>\n",
              "      <th>148</th>\n",
              "      <td>3055</td>\n",
              "      <td>2983.260367</td>\n",
              "      <td>71.739633</td>\n",
              "    </tr>\n",
              "    <tr>\n",
              "      <th>131</th>\n",
              "      <td>1357</td>\n",
              "      <td>1375.102901</td>\n",
              "      <td>-18.102901</td>\n",
              "    </tr>\n",
              "    <tr>\n",
              "      <th>4</th>\n",
              "      <td>1749</td>\n",
              "      <td>1539.347563</td>\n",
              "      <td>209.652437</td>\n",
              "    </tr>\n",
              "    <tr>\n",
              "      <th>32</th>\n",
              "      <td>3316</td>\n",
              "      <td>2856.451091</td>\n",
              "      <td>459.548909</td>\n",
              "    </tr>\n",
              "  </tbody>\n",
              "</table>\n",
              "</div>"
            ],
            "text/plain": [
              "     Actual Value  Predicted Value  Difference\n",
              "85           1396      1492.038275  -96.038275\n",
              "88           1302      1466.378246 -164.378246\n",
              "99           1511      1621.863659 -110.863659\n",
              "117          3287      3080.019757  206.980243\n",
              "29           1950      1846.959414  103.040586\n",
              "116          3287      3080.461473  206.538527\n",
              "78           2714      2587.763872  126.236128\n",
              "82           3005      2916.393307   88.606693\n",
              "18           1612      1695.494171  -83.494171\n",
              "15           1612      1695.532581  -83.532581\n",
              "19           1238      1384.083403 -146.083403\n",
              "12           2174      1924.146231  249.853769\n",
              "9            2580      2430.373147  149.626853\n",
              "42           1843      1578.088700  264.911300\n",
              "51           1347      1287.530628   59.469372\n",
              "69           2323      2480.275347 -157.275347\n",
              "111          2975      2904.867461   70.132539\n",
              "142          2508      2584.856207  -76.856207\n",
              "65           2824      2538.872091  285.127909\n",
              "98           1522      1390.109910  131.890090\n",
              "75           2276      2312.801387  -36.801387\n",
              "127          2491      2606.183517 -115.183517\n",
              "31           2977      3100.365523 -123.365523\n",
              "66           2746      2827.624054  -81.624054\n",
              "55           1777      1501.381547  275.618453\n",
              "30           2258      2197.706171   60.293829\n",
              "26           2006      1850.622607  155.377393\n",
              "135          2445      2381.803606   63.196394\n",
              "139          2409      2365.234876   43.765124\n",
              "36           1942      2228.664840 -286.664840\n",
              "115          2858      2721.130081  136.869919\n",
              "96           2562      2433.357701  128.642299\n",
              "68           1734      1730.292818    3.707182\n",
              "22           2977      3100.442343 -123.442343\n",
              "45           1989      2009.807370  -20.807370\n",
              "76           2571      2239.408216  331.591784\n",
              "11           2006      1850.776247  155.223753\n",
              "138          2409      2365.887847   43.112153\n",
              "136          2445      2380.612893   64.387107\n",
              "132          2466      2629.325366 -163.325366\n",
              "27           2938      2733.781571  204.218429\n",
              "64           2685      2728.377981  -43.377981\n",
              "148          3055      2983.260367   71.739633\n",
              "131          1357      1375.102901  -18.102901\n",
              "4            1749      1539.347563  209.652437\n",
              "32           3316      2856.451091  459.548909"
            ]
          },
          "execution_count": 63,
          "metadata": {},
          "output_type": "execute_result"
        }
      ],
      "source": [
        "df3 = pd.DataFrame({\"Actual Value\":y_test,'Predicted Value':y_pred,'Difference':y_test-y_pred})\n",
        "df3"
      ]
    }
  ],
  "metadata": {
    "colab": {
      "provenance": []
    },
    "kernelspec": {
      "display_name": "Python 3",
      "name": "python3"
    },
    "language_info": {
      "codemirror_mode": {
        "name": "ipython",
        "version": 3
      },
      "file_extension": ".py",
      "mimetype": "text/x-python",
      "name": "python",
      "nbconvert_exporter": "python",
      "pygments_lexer": "ipython3",
      "version": "3.11.4"
    }
  },
  "nbformat": 4,
  "nbformat_minor": 0
}
